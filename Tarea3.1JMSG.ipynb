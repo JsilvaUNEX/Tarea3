{
 "cells": [
  {
   "cell_type": "markdown",
   "id": "e56daea3-fd27-4082-89c9-715bbc960f1a",
   "metadata": {},
   "source": [
    "# Tarea 3 Introducción al análisis y procesamiento de audio con Python\n",
    "## Jose Manuel Silva Gamero\n",
    "## Parte 1. Configurar el repositorio de GitHub, conda y JupyterLab"
   ]
  },
  {
   "cell_type": "markdown",
   "id": "9e9b21aa-c5e3-428b-8091-c2465cd56e62",
   "metadata": {},
   "source": [
    "Creo el nuevo repositorio en mi gitHub y lo clono en local con el comando **git clone https://github.com/JsilvaUNEX/Tarea3**.  "
   ]
  },
  {
   "cell_type": "markdown",
   "id": "ce01fd49-da08-40b7-b0cb-58ab57eea321",
   "metadata": {},
   "source": [
    "Creo mi entorno con el comando **conda create --name=myrepository**."
   ]
  },
  {
   "cell_type": "markdown",
   "id": "d0f21b8c-efb4-40ab-964a-975aa7056228",
   "metadata": {},
   "source": [
    "Añado la carpeta .ipynb_checkpoints/ al .gitignore utilizando el comando **gedit .gitignore**."
   ]
  },
  {
   "cell_type": "markdown",
   "id": "2d4bab58-e3f6-4228-83af-946c45ea910c",
   "metadata": {},
   "source": [
    "Activo el entorno conda creado con **conda activate myenvironment**."
   ]
  },
  {
   "cell_type": "markdown",
   "id": "30fd6c5a-d508-4b81-83b1-09ab18c3661b",
   "metadata": {},
   "source": [
    "Instalo los paquetes requeridos en el entorno con el comando **python3 -m ipykernel install --user --name=myenvironment**."
   ]
  },
  {
   "cell_type": "markdown",
   "id": "e3309db7-6147-401f-82e9-e64b3ac05eb4",
   "metadata": {},
   "source": [
    "Ejecutando el comando **jupyter kernelspec list** compruebo que el entorno conda está añadido a los kernels "
   ]
  },
  {
   "cell_type": "markdown",
   "id": "a1f1347c-b6a0-45ca-b466-b0498e25a713",
   "metadata": {},
   "source": [
    "Se instala JupyterLab usando **conda install -c conda-forge jupyterlab**."
   ]
  },
  {
   "cell_type": "markdown",
   "id": "b32956f7-8014-4e35-a22b-8dc654eea1eb",
   "metadata": {},
   "source": [
    "## Parte 2. Análisis de audio con Python y JupyterLab"
   ]
  },
  {
   "cell_type": "markdown",
   "id": "1ca09127-6bb3-4f2f-81e4-d0558847ecf6",
   "metadata": {},
   "source": [
    "Se importan las librerías que vamos a necesitar."
   ]
  },
  {
   "cell_type": "code",
   "execution_count": null,
   "id": "280f93cb-c570-4452-a324-5d0a8d135726",
   "metadata": {},
   "outputs": [],
   "source": [
    "# Librerías importadas\n",
    "from scipy.io import wavfile\n",
    "import IPython\n",
    "import os\n",
    "import numpy as np\n",
    "import matplotlib.pyplot as plt #Se utiliza para hacer la gráfica"
   ]
  },
  {
   "cell_type": "markdown",
   "id": "e24a0381-30cd-4936-8c78-9b9709f1e44d",
   "metadata": {},
   "source": [
    "A continuación se especificarán los directorios en los que se almacenarán los audios que se estudiarán."
   ]
  },
  {
   "cell_type": "code",
   "execution_count": null,
   "id": "f3399912-cce5-4f1f-9bd2-2703bb2c085e",
   "metadata": {},
   "outputs": [],
   "source": [
    "# Directorios que se usan.\n",
    "cwd = os.getcwd()  # Obtiene el directorio de trabajo actual.\n",
    "audio_input_path = os.path.join(cwd, 'examples')  # Ruta del directorio de entrada de audios.\n",
    "audio_output_path = os.path.join(cwd, '_output')  # Ruta del directorio de salida para los audios generados.\n",
    "\n",
    "# Imprime las rutas de los directorios.\n",
    "print(f'Directorio con los audios de entrada: {audio_input_path}')\n",
    "print(f'Directorio donde guardaremos los audios generados: {audio_output_path}\\n')\n"
   ]
  },
  {
   "cell_type": "markdown",
   "id": "d3354955-17fe-42cb-9516-78251b181834",
   "metadata": {},
   "source": [
    "### Audio estéreo"
   ]
  },
  {
   "cell_type": "markdown",
   "id": "996fd776-94b7-4039-b899-fd53266ea5bb",
   "metadata": {},
   "source": [
    "Para cargar un archivo de audio extraigo la carpeta de audio del campus y copio en mi repositorio uno de los archivos con **cp /home/usuario/Descargas/examples/breaking_bad.wav /home/usuario/tarea3/Tarea3/examples/** y lo añado al repositorio **git add breaking_bad.wav**.\n",
    "\n",
    "Primero se indica la ruta completa donde está situado el audio. Después se utiliza **wavfile.read()** para leer el archivo de audio.\n",
    "\n",
    "Por último se imprime la frecuencia de muestreo."
   ]
  },
  {
   "cell_type": "code",
   "execution_count": null,
   "id": "cba9d506-7716-4555-a20f-a047af3cd204",
   "metadata": {},
   "outputs": [],
   "source": [
    "# Se carga el archivo de audio.\n",
    "archivoAudio = os.path.join(audio_input_path, 'breaking_bad.wav')\n",
    "\n",
    "#Se lee el archivo de audio y se obtiene la frecuencia de muestreo.\n",
    "sample_rate, audio_data = wavfile.read(archivoAudio) \n",
    "\n",
    "#Se imprime la fecuencia de muestreo.\n",
    "print(f'Frecuencia de muestreo (sample rate): {sample_rate/1000} kHz')"
   ]
  },
  {
   "cell_type": "markdown",
   "id": "1cd6bbfd-3e87-4778-8fe2-f1e489c86956",
   "metadata": {},
   "source": [
    "Se incluye un widget para reproducir el audio con el siguiente comando. Este comando crea un objeto Audio que se puede puede reproducir dando play en el widget y se puede controlar el volumen."
   ]
  },
  {
   "cell_type": "code",
   "execution_count": null,
   "id": "b0c957ec-77d5-48b5-9bd8-44a7da45d9b8",
   "metadata": {},
   "outputs": [],
   "source": [
    "# Audio en estereo.\n",
    "IPython.display.Audio(audio_data.T, rate=sample_rate) # .T se escribe solo si es audio estéreo."
   ]
  },
  {
   "cell_type": "markdown",
   "id": "f7b975f3-a18b-4679-81ca-c5535040cad1",
   "metadata": {},
   "source": [
    "Ahora se muestra la información del audio en estéreo."
   ]
  },
  {
   "cell_type": "code",
   "execution_count": null,
   "id": "e582f75e-b19d-4263-8281-6bcadfdca24e",
   "metadata": {},
   "outputs": [],
   "source": [
    "# Mostrar informacion (sonido estéreo).\n",
    "print('Datos de audio (estereo):')\n",
    "print(f'- Tamaño:     {audio_data.shape}') # Imprime la matriz de datos de audio.\n",
    "print(f'- 1º canal:   {audio_data[:5, 0]}...') # Imprime los 5 primeros datos del canal 1.\n",
    "print(f'- 2º canal:   {audio_data[:5, 1]}...') # Imprime los 5 primeros datos del canal 2.\n",
    "print(f'- Resolucion: {type(audio_data[0,0])}\\n') # Imprime el tipo de resolución del primer dato de la matriz."
   ]
  },
  {
   "cell_type": "markdown",
   "id": "99cad0df-6021-40ee-9797-fdac83b30f66",
   "metadata": {},
   "source": [
    "### Conversión a audio mono"
   ]
  },
  {
   "cell_type": "markdown",
   "id": "43080cec-01b3-4d00-98a6-8bc29a738f88",
   "metadata": {},
   "source": [
    "Ahora se procede a convertir el archivo de audio estereo a mono."
   ]
  },
  {
   "cell_type": "code",
   "execution_count": null,
   "id": "d9aac681-a541-4f80-bc2e-2dc74e958efe",
   "metadata": {},
   "outputs": [],
   "source": [
    "# Convertimos a mono mediante la media por canal (simplificacion).\n",
    "new_data_mono = audio_data.mean(axis=1)  # Para convetir a mono se calcula la media de las columnas de la matriz.\n",
    "print('Nuevos datos de audio (mono):')\n",
    "print(f'- Nuevo tamaño: {new_data_mono.shape}') # Imprime las dimensiones de la matriz de datos del audio mono.\n",
    "print(f'- Canal unico:  {new_data_mono[:5]}...') # Imprime los 5 primeros datos de la matriz de datos del audio mono.\n",
    "\n",
    "# Mantenemos la misma resolucion que antes.\n",
    "new_data_mono = new_data_mono.astype(np.int16) # Se convierten los datos a enteros de 16 bits.\n",
    "print(f'- Resolucion:   {type(new_data_mono[0])}\\n') # Imprime el tipo de resolución del primer dato de la matriz del audio mono."
   ]
  },
  {
   "cell_type": "markdown",
   "id": "6ba67754-abc4-49af-ac1b-8fcec27f6298",
   "metadata": {},
   "source": [
    "Ahora se guarda el archivo mono."
   ]
  },
  {
   "cell_type": "code",
   "execution_count": null,
   "id": "d894de4e-7e49-46b7-adcc-87909ef8db5c",
   "metadata": {},
   "outputs": [],
   "source": [
    "# Guardamos el archivo mono a un fichero de tipo wav.\n",
    "wavfile.write(\n",
    "    filename=os.path.join('audio_mono.wav'), #Ruta y nombre con el que se guardará el archivo de salida.\n",
    "    rate=sample_rate, # Frecuencia del archivo de salida mono.\n",
    "    data=new_data_mono # Datos del archivo de salida mono.\n",
    ")"
   ]
  },
  {
   "cell_type": "markdown",
   "id": "938e77f3-fc0c-46f3-812a-97452c7e3add",
   "metadata": {},
   "source": [
    "Ahora lo escucharemos con el widget."
   ]
  },
  {
   "cell_type": "code",
   "execution_count": null,
   "id": "570d3f4b-3b0b-4850-8130-ec8e188f658c",
   "metadata": {},
   "outputs": [],
   "source": [
    "IPython.display.Audio(new_data_mono, rate=sample_rate)"
   ]
  },
  {
   "cell_type": "markdown",
   "id": "14b02a13-86b2-44ad-af55-12f436c88076",
   "metadata": {},
   "source": [
    "### Gráficas de audio estéreo y mono"
   ]
  },
  {
   "cell_type": "code",
   "execution_count": null,
   "id": "fb1459f4-1019-4fab-a3fe-3e0a853a9e2b",
   "metadata": {},
   "outputs": [],
   "source": [
    "# Gráfico para audio estéreo\n",
    "plt.figure(figsize=(12, 4)) # Establece el tamaño de la figura.\n",
    "plt.plot(np.arange(len(audio_data[0])) / sample_rate, audio_data[0], label='Canal 1') #Grafica los datos del canal 1 en un eje de tiempo en segundos.\n",
    "plt.plot(np.arange(len(audio_data[1])) / sample_rate, audio_data[1], label='Canal 2') #Grafica los datos del canal 2 en un eje de tiempo en segundos.\n",
    "plt.title('Audio Estéreo') # Título de la gráfica.\n",
    "plt.xlabel('Tiempo (s)') # Eje X.\n",
    "plt.ylabel('Amplitud') # Eje Y.\n",
    "plt.legend() # Se usa para mostrar la leyenda de la gráfica.\n",
    "plt.show()\n",
    "\n",
    "# Gráfico para audio mono\n",
    "plt.figure(figsize=(12, 4)) # Establece el tamaño de la figura.\n",
    "plt.plot(np.arange(len(new_data_mono)) / sample_rate, new_data_mono, label='Canal único', color='red') #Grafica los datos del canal único del archivo mono en un eje de tiempo en segundos\n",
    "plt.title('Audio Mono') # Título de la gráfica.\n",
    "plt.xlabel('Tiempo (s)') # Eje X.\n",
    "plt.ylabel('Amplitud') # Eje Y.\n",
    "plt.legend() # Se usa para mostrar la leyenda de la gráfica.\n",
    "plt.show()\n"
   ]
  },
  {
   "cell_type": "markdown",
   "id": "1b996486-18b3-4c86-81a4-9f98be25f08e",
   "metadata": {},
   "source": [
    "### Diferencias entre audio estéreo y mono"
   ]
  },
  {
   "cell_type": "markdown",
   "id": "68c096b0-b575-4dfe-afc8-105a35b4a602",
   "metadata": {},
   "source": [
    "Las diferencia entre audio estéreo y audio mono son que en el audio estéreo hay 2 canales en el que cada uno de ellos lleva información independiente, mientras que en el audio mono hay un único canal que lleva toda la información."
   ]
  }
 ],
 "metadata": {
  "kernelspec": {
   "display_name": "myenvironment",
   "language": "python",
   "name": "myenvironment"
  },
  "language_info": {
   "codemirror_mode": {
    "name": "ipython",
    "version": 3
   },
   "file_extension": ".py",
   "mimetype": "text/x-python",
   "name": "python",
   "nbconvert_exporter": "python",
   "pygments_lexer": "ipython3",
   "version": "3.10.12"
  }
 },
 "nbformat": 4,
 "nbformat_minor": 5
}
